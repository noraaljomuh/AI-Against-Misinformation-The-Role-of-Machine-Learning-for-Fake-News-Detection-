{
 "cells": [
  {
   "cell_type": "code",
   "execution_count": 38,
   "id": "f94da384-d1e2-437e-9578-6d8293c13efb",
   "metadata": {},
   "outputs": [],
   "source": [
    "# Importing Libraries\n",
    "import os\n",
    "import pandas as pd\n",
    "import numpy as np\n",
    "import matplotlib.pyplot as plt\n",
    "import seaborn as sns\n",
    "\n",
    "from sklearn.model_selection import train_test_split\n",
    "from sklearn.feature_extraction.text import TfidfVectorizer\n",
    "from sklearn.svm import SVC\n",
    "from sklearn.ensemble import RandomForestClassifier\n",
    "from sklearn.metrics import accuracy_score, precision_score, recall_score, f1_score\n",
    "from sklearn.metrics import confusion_matrix\n",
    "from sklearn.model_selection import cross_val_score\n",
    "from sklearn.metrics import mean_absolute_error, mean_squared_error\n",
    "\n",
    "\n",
    "import warnings\n",
    "warnings.filterwarnings(\"ignore\")"
   ]
  },
  {
   "cell_type": "code",
   "execution_count": 2,
   "id": "19825990-2e81-4b85-bd65-89e66ff8c57a",
   "metadata": {},
   "outputs": [],
   "source": [
    "# Defining the dataset with two Excel files (classified: 'true' or 'fake')\n",
    "dataset_path = 'Downloads/MLFakeNews/'\n",
    "\n",
    "# Joining the excel file with the original path of the dataset.\n",
    "true_file = os.path.join(dataset_path, 'true.csv')\n",
    "fake_file = os.path.join(dataset_path, 'fake.csv')"
   ]
  },
  {
   "cell_type": "code",
   "execution_count": 3,
   "id": "5d33a9df-6320-4c37-944d-f1515aa531c5",
   "metadata": {},
   "outputs": [],
   "source": [
    "# Loading data from Excel\n",
    "def load_data_from_excel(true_file, fake_file):\n",
    "    true_df = pd.read_csv(true_file)\n",
    "    fake_df = pd.read_csv(fake_file)\n",
    "    \n",
    "    # Ensuring the column with news text is named 'text'\n",
    "    true_df = true_df[['text']].copy()\n",
    "    fake_df = fake_df[['text']].copy()\n",
    "\n",
    "    # Adding labels-> 'true'= 1, 'fake'= 0\n",
    "    true_df['label'] = 1  # True news\n",
    "    fake_df['label'] = 0  # Fake news\n",
    "\n",
    "    # Combining the the two files \n",
    "    return pd.concat([true_df, fake_df], ignore_index=True)\n",
    "\n",
    "df = load_data_from_excel(true_file, fake_file)\n",
    "df = df.dropna()"
   ]
  },
  {
   "cell_type": "code",
   "execution_count": 42,
   "id": "96925c82-2ed2-47ce-bffa-4478764ed472",
   "metadata": {},
   "outputs": [
    {
     "data": {
      "text/html": [
       "<div>\n",
       "<style scoped>\n",
       "    .dataframe tbody tr th:only-of-type {\n",
       "        vertical-align: middle;\n",
       "    }\n",
       "\n",
       "    .dataframe tbody tr th {\n",
       "        vertical-align: top;\n",
       "    }\n",
       "\n",
       "    .dataframe thead th {\n",
       "        text-align: right;\n",
       "    }\n",
       "</style>\n",
       "<table border=\"1\" class=\"dataframe\">\n",
       "  <thead>\n",
       "    <tr style=\"text-align: right;\">\n",
       "      <th></th>\n",
       "      <th>text</th>\n",
       "      <th>label</th>\n",
       "      <th>word_count</th>\n",
       "    </tr>\n",
       "  </thead>\n",
       "  <tbody>\n",
       "    <tr>\n",
       "      <th>0</th>\n",
       "      <td>WASHINGTON (Reuters) - The head of a conservat...</td>\n",
       "      <td>1</td>\n",
       "      <td>749</td>\n",
       "    </tr>\n",
       "    <tr>\n",
       "      <th>1</th>\n",
       "      <td>WASHINGTON (Reuters) - Transgender people will...</td>\n",
       "      <td>1</td>\n",
       "      <td>624</td>\n",
       "    </tr>\n",
       "    <tr>\n",
       "      <th>2</th>\n",
       "      <td>WASHINGTON (Reuters) - The special counsel inv...</td>\n",
       "      <td>1</td>\n",
       "      <td>457</td>\n",
       "    </tr>\n",
       "    <tr>\n",
       "      <th>3</th>\n",
       "      <td>WASHINGTON (Reuters) - Trump campaign adviser ...</td>\n",
       "      <td>1</td>\n",
       "      <td>376</td>\n",
       "    </tr>\n",
       "    <tr>\n",
       "      <th>4</th>\n",
       "      <td>SEATTLE/WASHINGTON (Reuters) - President Donal...</td>\n",
       "      <td>1</td>\n",
       "      <td>852</td>\n",
       "    </tr>\n",
       "  </tbody>\n",
       "</table>\n",
       "</div>"
      ],
      "text/plain": [
       "                                                text  label  word_count\n",
       "0  WASHINGTON (Reuters) - The head of a conservat...      1         749\n",
       "1  WASHINGTON (Reuters) - Transgender people will...      1         624\n",
       "2  WASHINGTON (Reuters) - The special counsel inv...      1         457\n",
       "3  WASHINGTON (Reuters) - Trump campaign adviser ...      1         376\n",
       "4  SEATTLE/WASHINGTON (Reuters) - President Donal...      1         852"
      ]
     },
     "execution_count": 42,
     "metadata": {},
     "output_type": "execute_result"
    }
   ],
   "source": [
    "# Displaying the first five news classified as 1 for true news \n",
    "df.head()"
   ]
  },
  {
   "cell_type": "code",
   "execution_count": 5,
   "id": "5dcc2b05-c780-4d9c-9aaa-64d46f7240d3",
   "metadata": {},
   "outputs": [
    {
     "data": {
      "text/html": [
       "<div>\n",
       "<style scoped>\n",
       "    .dataframe tbody tr th:only-of-type {\n",
       "        vertical-align: middle;\n",
       "    }\n",
       "\n",
       "    .dataframe tbody tr th {\n",
       "        vertical-align: top;\n",
       "    }\n",
       "\n",
       "    .dataframe thead th {\n",
       "        text-align: right;\n",
       "    }\n",
       "</style>\n",
       "<table border=\"1\" class=\"dataframe\">\n",
       "  <thead>\n",
       "    <tr style=\"text-align: right;\">\n",
       "      <th></th>\n",
       "      <th>text</th>\n",
       "      <th>label</th>\n",
       "    </tr>\n",
       "  </thead>\n",
       "  <tbody>\n",
       "    <tr>\n",
       "      <th>44893</th>\n",
       "      <td>21st Century Wire says As 21WIRE reported earl...</td>\n",
       "      <td>0</td>\n",
       "    </tr>\n",
       "    <tr>\n",
       "      <th>44894</th>\n",
       "      <td>21st Century Wire says It s a familiar theme. ...</td>\n",
       "      <td>0</td>\n",
       "    </tr>\n",
       "    <tr>\n",
       "      <th>44895</th>\n",
       "      <td>Patrick Henningsen  21st Century WireRemember ...</td>\n",
       "      <td>0</td>\n",
       "    </tr>\n",
       "    <tr>\n",
       "      <th>44896</th>\n",
       "      <td>21st Century Wire says Al Jazeera America will...</td>\n",
       "      <td>0</td>\n",
       "    </tr>\n",
       "    <tr>\n",
       "      <th>44897</th>\n",
       "      <td>21st Century Wire says As 21WIRE predicted in ...</td>\n",
       "      <td>0</td>\n",
       "    </tr>\n",
       "  </tbody>\n",
       "</table>\n",
       "</div>"
      ],
      "text/plain": [
       "                                                    text  label\n",
       "44893  21st Century Wire says As 21WIRE reported earl...      0\n",
       "44894  21st Century Wire says It s a familiar theme. ...      0\n",
       "44895  Patrick Henningsen  21st Century WireRemember ...      0\n",
       "44896  21st Century Wire says Al Jazeera America will...      0\n",
       "44897  21st Century Wire says As 21WIRE predicted in ...      0"
      ]
     },
     "execution_count": 5,
     "metadata": {},
     "output_type": "execute_result"
    }
   ],
   "source": [
    "# Displaying the last five news classified as 0 for fake news \n",
    "df.tail()"
   ]
  },
  {
   "cell_type": "code",
   "execution_count": 6,
   "id": "cdee2e86-3521-4043-9d4c-a847dfaaacc0",
   "metadata": {},
   "outputs": [
    {
     "name": "stdout",
     "output_type": "stream",
     "text": [
      "Rows with any null values:\n",
      "True News: 0 rows\n",
      "Fake News: 0 rows\n",
      "\n"
     ]
    }
   ],
   "source": [
    "# Split dataset by class\n",
    "true_df = df[df['label'] == 1]\n",
    "fake_df = df[df['label'] == 0]\n",
    "\n",
    "null_true = true_df.isnull().sum()\n",
    "null_fake = fake_df.isnull().sum()\n",
    "\n",
    "# Counting rows with any nulls per class\n",
    "print(f\"Rows with any null values:\")\n",
    "print(f\"True News: {true_df.isnull().any(axis=1).sum()} rows\")\n",
    "print(f\"Fake News: {fake_df.isnull().any(axis=1).sum()} rows\\n\")\n"
   ]
  },
  {
   "cell_type": "code",
   "execution_count": 7,
   "id": "a117d779-69a8-48e7-9332-f78a27580cc2",
   "metadata": {},
   "outputs": [
    {
     "name": "stdout",
     "output_type": "stream",
     "text": [
      "Dataset Info:\n",
      "\n",
      "<class 'pandas.core.frame.DataFrame'>\n",
      "RangeIndex: 44898 entries, 0 to 44897\n",
      "Data columns (total 2 columns):\n",
      " #   Column  Non-Null Count  Dtype \n",
      "---  ------  --------------  ----- \n",
      " 0   text    44898 non-null  object\n",
      " 1   label   44898 non-null  int64 \n",
      "dtypes: int64(1), object(1)\n",
      "memory usage: 701.7+ KB\n",
      "\n",
      "Class Distribution:\n",
      "label\n",
      "0    23481\n",
      "1    21417\n",
      "Name: count, dtype: int64\n",
      "\n",
      "Rows per class:\n",
      "True: 21417 \n",
      "Fake: 23481\n",
      "\n",
      "Dataset Shape: 44898 rows, 2 columns\n"
     ]
    }
   ],
   "source": [
    "# Descriptive statistics of the dataset\n",
    "print(\"Dataset Info:\\n\")\n",
    "df.info()\n",
    "\n",
    "print(\"\\nClass Distribution:\")\n",
    "print(df['label'].value_counts())\n",
    "print(\"\\nRows per class:\\nTrue:\", (df['label'] == 1).sum(), \"\\nFake:\", (df['label'] == 0).sum())\n",
    "\n",
    "print(f\"\\nDataset Shape: {df.shape[0]} rows, {df.shape[1]} columns\")"
   ]
  },
  {
   "cell_type": "code",
   "execution_count": 8,
   "id": "a76882c7-6d8f-4cc7-ab5c-c063ecde76cb",
   "metadata": {},
   "outputs": [
    {
     "data": {
      "text/html": [
       "<div>\n",
       "<style scoped>\n",
       "    .dataframe tbody tr th:only-of-type {\n",
       "        vertical-align: middle;\n",
       "    }\n",
       "\n",
       "    .dataframe tbody tr th {\n",
       "        vertical-align: top;\n",
       "    }\n",
       "\n",
       "    .dataframe thead th {\n",
       "        text-align: right;\n",
       "    }\n",
       "</style>\n",
       "<table border=\"1\" class=\"dataframe\">\n",
       "  <thead>\n",
       "    <tr style=\"text-align: right;\">\n",
       "      <th></th>\n",
       "      <th>Word Count Stats</th>\n",
       "    </tr>\n",
       "  </thead>\n",
       "  <tbody>\n",
       "    <tr>\n",
       "      <th>Mean</th>\n",
       "      <td>405.282284</td>\n",
       "    </tr>\n",
       "    <tr>\n",
       "      <th>Standard Deviation</th>\n",
       "      <td>351.265595</td>\n",
       "    </tr>\n",
       "    <tr>\n",
       "      <th>Minimum</th>\n",
       "      <td>0.000000</td>\n",
       "    </tr>\n",
       "    <tr>\n",
       "      <th>25th Percentile</th>\n",
       "      <td>203.000000</td>\n",
       "    </tr>\n",
       "    <tr>\n",
       "      <th>50th Percentile (Median)</th>\n",
       "      <td>362.000000</td>\n",
       "    </tr>\n",
       "    <tr>\n",
       "      <th>75th Percentile</th>\n",
       "      <td>513.000000</td>\n",
       "    </tr>\n",
       "    <tr>\n",
       "      <th>Maximum</th>\n",
       "      <td>8135.000000</td>\n",
       "    </tr>\n",
       "  </tbody>\n",
       "</table>\n",
       "</div>"
      ],
      "text/plain": [
       "                          Word Count Stats\n",
       "Mean                            405.282284\n",
       "Standard Deviation              351.265595\n",
       "Minimum                           0.000000\n",
       "25th Percentile                 203.000000\n",
       "50th Percentile (Median)        362.000000\n",
       "75th Percentile                 513.000000\n",
       "Maximum                        8135.000000"
      ]
     },
     "metadata": {},
     "output_type": "display_data"
    }
   ],
   "source": [
    "# Add a column for word count\n",
    "df['word_count'] = df['text'].apply(lambda x: len(str(x).split()))\n",
    "\n",
    "# Descriptive statistics as a DataFrame table\n",
    "word_stats = {\n",
    "    \"Mean\": [df['word_count'].mean()],\n",
    "    \"Standard Deviation\": [df['word_count'].std()],\n",
    "    \"Minimum\": [df['word_count'].min()],\n",
    "    \"25th Percentile\": [df['word_count'].quantile(0.25)],\n",
    "    \"50th Percentile (Median)\": [df['word_count'].median()],\n",
    "    \"75th Percentile\": [df['word_count'].quantile(0.75)],\n",
    "    \"Maximum\": [df['word_count'].max()]\n",
    "}\n",
    "\n",
    "word_stats_df = pd.DataFrame(word_stats).T\n",
    "word_stats_df.columns = ['Word Count Stats']\n",
    "display(word_stats_df)"
   ]
  },
  {
   "cell_type": "code",
   "execution_count": 9,
   "id": "4f81a7a4-4299-45db-9bf1-cb90cd8f191a",
   "metadata": {},
   "outputs": [],
   "source": [
    "# Data Preprocessing  \n",
    "X = df['text']\n",
    "y = df['label']"
   ]
  },
  {
   "cell_type": "code",
   "execution_count": 10,
   "id": "98e43636-88e1-481d-8888-c8af59474be3",
   "metadata": {},
   "outputs": [
    {
     "data": {
      "image/png": "[encoded data removed]",
      "text/plain": [
       "<Figure size 600x400 with 1 Axes>"
      ]
     },
     "metadata": {},
     "output_type": "display_data"
    },
    {
     "data": {
      "image/png": "[encoded data removed]",
      "text/plain": [
       "<Figure size 1000x500 with 1 Axes>"
      ]
     },
     "metadata": {},
     "output_type": "display_data"
    }
   ],
   "source": [
    "# Plot class distribution\n",
    "plt.figure(figsize=(6, 4))\n",
    "sns.countplot(data=df, x='label', palette='Set2')\n",
    "plt.title(\"Class Distribution (0 = Fake, 1 = True)\")\n",
    "plt.xticks([0, 1], ['Fake', 'True'])\n",
    "plt.xlabel(\"News Class\")\n",
    "plt.ylabel(\"Count\")\n",
    "plt.show()\n",
    "\n",
    "# Plot word count distribution by class\n",
    "plt.figure(figsize=(10, 5))\n",
    "sns.histplot(data=df, x='word_count', hue='label', bins=40, kde=True, palette='Set1')\n",
    "plt.title(\"Word Count Distribution by Class\")\n",
    "plt.xlabel(\"Word Count\")\n",
    "plt.ylabel(\"Frequency\")\n",
    "plt.legend(title='Class', labels=['Fake', 'True'])\n",
    "plt.show()\n"
   ]
  },
  {
   "cell_type": "code",
   "execution_count": 11,
   "id": "162adcf2-77e8-4d0e-817f-ce6ab1f89c2e",
   "metadata": {},
   "outputs": [
    {
     "name": "stdout",
     "output_type": "stream",
     "text": [
      "\n",
      "Correlation Matrix:\n"
     ]
    },
    {
     "data": {
      "text/html": [
       "<div>\n",
       "<style scoped>\n",
       "    .dataframe tbody tr th:only-of-type {\n",
       "        vertical-align: middle;\n",
       "    }\n",
       "\n",
       "    .dataframe tbody tr th {\n",
       "        vertical-align: top;\n",
       "    }\n",
       "\n",
       "    .dataframe thead th {\n",
       "        text-align: right;\n",
       "    }\n",
       "</style>\n",
       "<table border=\"1\" class=\"dataframe\">\n",
       "  <thead>\n",
       "    <tr style=\"text-align: right;\">\n",
       "      <th></th>\n",
       "      <th>word_count</th>\n",
       "      <th>label</th>\n",
       "    </tr>\n",
       "  </thead>\n",
       "  <tbody>\n",
       "    <tr>\n",
       "      <th>word_count</th>\n",
       "      <td>1.000000</td>\n",
       "      <td>-0.053405</td>\n",
       "    </tr>\n",
       "    <tr>\n",
       "      <th>label</th>\n",
       "      <td>-0.053405</td>\n",
       "      <td>1.000000</td>\n",
       "    </tr>\n",
       "  </tbody>\n",
       "</table>\n",
       "</div>"
      ],
      "text/plain": [
       "            word_count     label\n",
       "word_count    1.000000 -0.053405\n",
       "label        -0.053405  1.000000"
      ]
     },
     "metadata": {},
     "output_type": "display_data"
    },
    {
     "data": {
      "image/png": "[encoded data removed]",
      "text/plain": [
       "<Figure size 500x400 with 2 Axes>"
      ]
     },
     "metadata": {},
     "output_type": "display_data"
    }
   ],
   "source": [
    "# Correlation matrix\n",
    "numeric_df = df[['word_count', 'label']]  # only numeric features\n",
    "corr_matrix = numeric_df.corr()\n",
    "\n",
    "print(\"\\nCorrelation Matrix:\")\n",
    "display(corr_matrix)\n",
    "\n",
    "# Correlation heatmap\n",
    "plt.figure(figsize=(5, 4))\n",
    "sns.heatmap(corr_matrix, annot=True, cmap='coolwarm', fmt=\".2f\")\n",
    "plt.title(\"Correlation Matrix\")\n",
    "plt.show()\n"
   ]
  },
  {
   "cell_type": "code",
   "execution_count": 12,
   "id": "dbc2eab3-d631-464d-bc82-b85172011943",
   "metadata": {},
   "outputs": [],
   "source": [
    "# Vectorizing the text data using TF-IDF\n",
    "vectorizer = TfidfVectorizer(stop_words='english', max_df=2000)\n",
    "X_vec = vectorizer.fit_transform(X)"
   ]
  },
  {
   "cell_type": "code",
   "execution_count": 13,
   "id": "a1ebe9e7-dccf-45ec-a112-5841319a6ac9",
   "metadata": {},
   "outputs": [],
   "source": [
    "# Spliting into training and testing sets \n",
    "X_train, X_test, y_train, y_test = train_test_split(X_vec, y, test_size=0.2, random_state=42)"
   ]
  },
  {
   "cell_type": "code",
   "execution_count": 14,
   "id": "53f7c10c-5a34-4f68-831d-95dc35160929",
   "metadata": {},
   "outputs": [],
   "source": [
    "# Models Initialization and Training \n",
    "\n",
    "# 1. Support Vecto Machine (SVM) Model \n",
    "svm_model = SVC() # Model Initialization\n"
   ]
  },
  {
   "cell_type": "code",
   "execution_count": 15,
   "id": "801d4344-23b3-4d93-a204-8aac99ff7103",
   "metadata": {},
   "outputs": [
    {
     "data": {
      "text/html": [
       "<style>#sk-container-id-1 {\n",
       "  /* Definition of color scheme common for light and dark mode */\n",
       "  --sklearn-color-text: #000;\n",
       "  --sklearn-color-text-muted: #666;\n",
       "  --sklearn-color-line: gray;\n",
       "  /* Definition of color scheme for unfitted estimators */\n",
       "  --sklearn-color-unfitted-level-0: #fff5e6;\n",
       "  --sklearn-color-unfitted-level-1: #f6e4d2;\n",
       "  --sklearn-color-unfitted-level-2: #ffe0b3;\n",
       "  --sklearn-color-unfitted-level-3: chocolate;\n",
       "  /* Definition of color scheme for fitted estimators */\n",
       "  --sklearn-color-fitted-level-0: #f0f8ff;\n",
       "  --sklearn-color-fitted-level-1: #d4ebff;\n",
       "  --sklearn-color-fitted-level-2: #b3dbfd;\n",
       "  --sklearn-color-fitted-level-3: cornflowerblue;\n",
       "\n",
       "  /* Specific color for light theme */\n",
       "  --sklearn-color-text-on-default-background: var(--sg-text-color, var(--theme-code-foreground, var(--jp-content-font-color1, black)));\n",
       "  --sklearn-color-background: var(--sg-background-color, var(--theme-background, var(--jp-layout-color0, white)));\n",
       "  --sklearn-color-border-box: var(--sg-text-color, var(--theme-code-foreground, var(--jp-content-font-color1, black)));\n",
       "  --sklearn-color-icon: #696969;\n",
       "\n",
       "  @media (prefers-color-scheme: dark) {\n",
       "    /* Redefinition of color scheme for dark theme */\n",
       "    --sklearn-color-text-on-default-background: var(--sg-text-color, var(--theme-code-foreground, var(--jp-content-font-color1, white)));\n",
       "    --sklearn-color-background: var(--sg-background-color, var(--theme-background, var(--jp-layout-color0, #111)));\n",
       "    --sklearn-color-border-box: var(--sg-text-color, var(--theme-code-foreground, var(--jp-content-font-color1, white)));\n",
       "    --sklearn-color-icon: #878787;\n",
       "  }\n",
       "}\n",
       "\n",
       "#sk-container-id-1 {\n",
       "  color: var(--sklearn-color-text);\n",
       "}\n",
       "\n",
       "#sk-container-id-1 pre {\n",
       "  padding: 0;\n",
       "}\n",
       "\n",
       "#sk-container-id-1 input.sk-hidden--visually {\n",
       "  border: 0;\n",
       "  clip: rect(1px 1px 1px 1px);\n",
       "  clip: rect(1px, 1px, 1px, 1px);\n",
       "  height: 1px;\n",
       "  margin: -1px;\n",
       "  overflow: hidden;\n",
       "  padding: 0;\n",
       "  position: absolute;\n",
       "  width: 1px;\n",
       "}\n",
       "\n",
       "#sk-container-id-1 div.sk-dashed-wrapped {\n",
       "  border: 1px dashed var(--sklearn-color-line);\n",
       "  margin: 0 0.4em 0.5em 0.4em;\n",
       "  box-sizing: border-box;\n",
       "  padding-bottom: 0.4em;\n",
       "  background-color: var(--sklearn-color-background);\n",
       "}\n",
       "\n",
       "#sk-container-id-1 div.sk-container {\n",
       "  /* jupyter's `normalize.less` sets `[hidden] { display: none; }`\n",
       "     but bootstrap.min.css set `[hidden] { display: none !important; }`\n",
       "     so we also need the `!important` here to be able to override the\n",
       "     default hidden behavior on the sphinx rendered scikit-learn.org.\n",
       "     See: https://github.com/scikit-learn/scikit-learn/issues/21755 */\n",
       "  display: inline-block !important;\n",
       "  position: relative;\n",
       "}\n",
       "\n",
       "#sk-container-id-1 div.sk-text-repr-fallback {\n",
       "  display: none;\n",
       "}\n",
       "\n",
       "div.sk-parallel-item,\n",
       "div.sk-serial,\n",
       "div.sk-item {\n",
       "  /* draw centered vertical line to link estimators */\n",
       "  background-image: linear-gradient(var(--sklearn-color-text-on-default-background), var(--sklearn-color-text-on-default-background));\n",
       "  background-size: 2px 100%;\n",
       "  background-repeat: no-repeat;\n",
       "  background-position: center center;\n",
       "}\n",
       "\n",
       "/* Parallel-specific style estimator block */\n",
       "\n",
       "#sk-container-id-1 div.sk-parallel-item::after {\n",
       "  content: \"\";\n",
       "  width: 100%;\n",
       "  border-bottom: 2px solid var(--sklearn-color-text-on-default-background);\n",
       "  flex-grow: 1;\n",
       "}\n",
       "\n",
       "#sk-container-id-1 div.sk-parallel {\n",
       "  display: flex;\n",
       "  align-items: stretch;\n",
       "  justify-content: center;\n",
       "  background-color: var(--sklearn-color-background);\n",
       "  position: relative;\n",
       "}\n",
       "\n",
       "#sk-container-id-1 div.sk-parallel-item {\n",
       "  display: flex;\n",
       "  flex-direction: column;\n",
       "}\n",
       "\n",
       "#sk-container-id-1 div.sk-parallel-item:first-child::after {\n",
       "  align-self: flex-end;\n",
       "  width: 50%;\n",
       "}\n",
       "\n",
       "#sk-container-id-1 div.sk-parallel-item:last-child::after {\n",
       "  align-self: flex-start;\n",
       "  width: 50%;\n",
       "}\n",
       "\n",
       "#sk-container-id-1 div.sk-parallel-item:only-child::after {\n",
       "  width: 0;\n",
       "}\n",
       "\n",
       "/* Serial-specific style estimator block */\n",
       "\n",
       "#sk-container-id-1 div.sk-serial {\n",
       "  display: flex;\n",
       "  flex-direction: column;\n",
       "  align-items: center;\n",
       "  background-color: var(--sklearn-color-background);\n",
       "  padding-right: 1em;\n",
       "  padding-left: 1em;\n",
       "}\n",
       "\n",
       "\n",
       "/* Toggleable style: style used for estimator/Pipeline/ColumnTransformer box that is\n",
       "clickable and can be expanded/collapsed.\n",
       "- Pipeline and ColumnTransformer use this feature and define the default style\n",
       "- Estimators will overwrite some part of the style using the `sk-estimator` class\n",
       "*/\n",
       "\n",
       "/* Pipeline and ColumnTransformer style (default) */\n",
       "\n",
       "#sk-container-id-1 div.sk-toggleable {\n",
       "  /* Default theme specific background. It is overwritten whether we have a\n",
       "  specific estimator or a Pipeline/ColumnTransformer */\n",
       "  background-color: var(--sklearn-color-background);\n",
       "}\n",
       "\n",
       "/* Toggleable label */\n",
       "#sk-container-id-1 label.sk-toggleable__label {\n",
       "  cursor: pointer;\n",
       "  display: flex;\n",
       "  width: 100%;\n",
       "  margin-bottom: 0;\n",
       "  padding: 0.5em;\n",
       "  box-sizing: border-box;\n",
       "  text-align: center;\n",
       "  align-items: start;\n",
       "  justify-content: space-between;\n",
       "  gap: 0.5em;\n",
       "}\n",
       "\n",
       "#sk-container-id-1 label.sk-toggleable__label .caption {\n",
       "  font-size: 0.6rem;\n",
       "  font-weight: lighter;\n",
       "  color: var(--sklearn-color-text-muted);\n",
       "}\n",
       "\n",
       "#sk-container-id-1 label.sk-toggleable__label-arrow:before {\n",
       "  /* Arrow on the left of the label */\n",
       "  content: \"▸\";\n",
       "  float: left;\n",
       "  margin-right: 0.25em;\n",
       "  color: var(--sklearn-color-icon);\n",
       "}\n",
       "\n",
       "#sk-container-id-1 label.sk-toggleable__label-arrow:hover:before {\n",
       "  color: var(--sklearn-color-text);\n",
       "}\n",
       "\n",
       "/* Toggleable content - dropdown */\n",
       "\n",
       "#sk-container-id-1 div.sk-toggleable__content {\n",
       "  max-height: 0;\n",
       "  max-width: 0;\n",
       "  overflow: hidden;\n",
       "  text-align: left;\n",
       "  /* unfitted */\n",
       "  background-color: var(--sklearn-color-unfitted-level-0);\n",
       "}\n",
       "\n",
       "#sk-container-id-1 div.sk-toggleable__content.fitted {\n",
       "  /* fitted */\n",
       "  background-color: var(--sklearn-color-fitted-level-0);\n",
       "}\n",
       "\n",
       "#sk-container-id-1 div.sk-toggleable__content pre {\n",
       "  margin: 0.2em;\n",
       "  border-radius: 0.25em;\n",
       "  color: var(--sklearn-color-text);\n",
       "  /* unfitted */\n",
       "  background-color: var(--sklearn-color-unfitted-level-0);\n",
       "}\n",
       "\n",
       "#sk-container-id-1 div.sk-toggleable__content.fitted pre {\n",
       "  /* unfitted */\n",
       "  background-color: var(--sklearn-color-fitted-level-0);\n",
       "}\n",
       "\n",
       "#sk-container-id-1 input.sk-toggleable__control:checked~div.sk-toggleable__content {\n",
       "  /* Expand drop-down */\n",
       "  max-height: 200px;\n",
       "  max-width: 100%;\n",
       "  overflow: auto;\n",
       "}\n",
       "\n",
       "#sk-container-id-1 input.sk-toggleable__control:checked~label.sk-toggleable__label-arrow:before {\n",
       "  content: \"▾\";\n",
       "}\n",
       "\n",
       "/* Pipeline/ColumnTransformer-specific style */\n",
       "\n",
       "#sk-container-id-1 div.sk-label input.sk-toggleable__control:checked~label.sk-toggleable__label {\n",
       "  color: var(--sklearn-color-text);\n",
       "  background-color: var(--sklearn-color-unfitted-level-2);\n",
       "}\n",
       "\n",
       "#sk-container-id-1 div.sk-label.fitted input.sk-toggleable__control:checked~label.sk-toggleable__label {\n",
       "  background-color: var(--sklearn-color-fitted-level-2);\n",
       "}\n",
       "\n",
       "/* Estimator-specific style */\n",
       "\n",
       "/* Colorize estimator box */\n",
       "#sk-container-id-1 div.sk-estimator input.sk-toggleable__control:checked~label.sk-toggleable__label {\n",
       "  /* unfitted */\n",
       "  background-color: var(--sklearn-color-unfitted-level-2);\n",
       "}\n",
       "\n",
       "#sk-container-id-1 div.sk-estimator.fitted input.sk-toggleable__control:checked~label.sk-toggleable__label {\n",
       "  /* fitted */\n",
       "  background-color: var(--sklearn-color-fitted-level-2);\n",
       "}\n",
       "\n",
       "#sk-container-id-1 div.sk-label label.sk-toggleable__label,\n",
       "#sk-container-id-1 div.sk-label label {\n",
       "  /* The background is the default theme color */\n",
       "  color: var(--sklearn-color-text-on-default-background);\n",
       "}\n",
       "\n",
       "/* On hover, darken the color of the background */\n",
       "#sk-container-id-1 div.sk-label:hover label.sk-toggleable__label {\n",
       "  color: var(--sklearn-color-text);\n",
       "  background-color: var(--sklearn-color-unfitted-level-2);\n",
       "}\n",
       "\n",
       "/* Label box, darken color on hover, fitted */\n",
       "#sk-container-id-1 div.sk-label.fitted:hover label.sk-toggleable__label.fitted {\n",
       "  color: var(--sklearn-color-text);\n",
       "  background-color: var(--sklearn-color-fitted-level-2);\n",
       "}\n",
       "\n",
       "/* Estimator label */\n",
       "\n",
       "#sk-container-id-1 div.sk-label label {\n",
       "  font-family: monospace;\n",
       "  font-weight: bold;\n",
       "  display: inline-block;\n",
       "  line-height: 1.2em;\n",
       "}\n",
       "\n",
       "#sk-container-id-1 div.sk-label-container {\n",
       "  text-align: center;\n",
       "}\n",
       "\n",
       "/* Estimator-specific */\n",
       "#sk-container-id-1 div.sk-estimator {\n",
       "  font-family: monospace;\n",
       "  border: 1px dotted var(--sklearn-color-border-box);\n",
       "  border-radius: 0.25em;\n",
       "  box-sizing: border-box;\n",
       "  margin-bottom: 0.5em;\n",
       "  /* unfitted */\n",
       "  background-color: var(--sklearn-color-unfitted-level-0);\n",
       "}\n",
       "\n",
       "#sk-container-id-1 div.sk-estimator.fitted {\n",
       "  /* fitted */\n",
       "  background-color: var(--sklearn-color-fitted-level-0);\n",
       "}\n",
       "\n",
       "/* on hover */\n",
       "#sk-container-id-1 div.sk-estimator:hover {\n",
       "  /* unfitted */\n",
       "  background-color: var(--sklearn-color-unfitted-level-2);\n",
       "}\n",
       "\n",
       "#sk-container-id-1 div.sk-estimator.fitted:hover {\n",
       "  /* fitted */\n",
       "  background-color: var(--sklearn-color-fitted-level-2);\n",
       "}\n",
       "\n",
       "/* Specification for estimator info (e.g. \"i\" and \"?\") */\n",
       "\n",
       "/* Common style for \"i\" and \"?\" */\n",
       "\n",
       ".sk-estimator-doc-link,\n",
       "a:link.sk-estimator-doc-link,\n",
       "a:visited.sk-estimator-doc-link {\n",
       "  float: right;\n",
       "  font-size: smaller;\n",
       "  line-height: 1em;\n",
       "  font-family: monospace;\n",
       "  background-color: var(--sklearn-color-background);\n",
       "  border-radius: 1em;\n",
       "  height: 1em;\n",
       "  width: 1em;\n",
       "  text-decoration: none !important;\n",
       "  margin-left: 0.5em;\n",
       "  text-align: center;\n",
       "  /* unfitted */\n",
       "  border: var(--sklearn-color-unfitted-level-1) 1pt solid;\n",
       "  color: var(--sklearn-color-unfitted-level-1);\n",
       "}\n",
       "\n",
       ".sk-estimator-doc-link.fitted,\n",
       "a:link.sk-estimator-doc-link.fitted,\n",
       "a:visited.sk-estimator-doc-link.fitted {\n",
       "  /* fitted */\n",
       "  border: var(--sklearn-color-fitted-level-1) 1pt solid;\n",
       "  color: var(--sklearn-color-fitted-level-1);\n",
       "}\n",
       "\n",
       "/* On hover */\n",
       "div.sk-estimator:hover .sk-estimator-doc-link:hover,\n",
       ".sk-estimator-doc-link:hover,\n",
       "div.sk-label-container:hover .sk-estimator-doc-link:hover,\n",
       ".sk-estimator-doc-link:hover {\n",
       "  /* unfitted */\n",
       "  background-color: var(--sklearn-color-unfitted-level-3);\n",
       "  color: var(--sklearn-color-background);\n",
       "  text-decoration: none;\n",
       "}\n",
       "\n",
       "div.sk-estimator.fitted:hover .sk-estimator-doc-link.fitted:hover,\n",
       ".sk-estimator-doc-link.fitted:hover,\n",
       "div.sk-label-container:hover .sk-estimator-doc-link.fitted:hover,\n",
       ".sk-estimator-doc-link.fitted:hover {\n",
       "  /* fitted */\n",
       "  background-color: var(--sklearn-color-fitted-level-3);\n",
       "  color: var(--sklearn-color-background);\n",
       "  text-decoration: none;\n",
       "}\n",
       "\n",
       "/* Span, style for the box shown on hovering the info icon */\n",
       ".sk-estimator-doc-link span {\n",
       "  display: none;\n",
       "  z-index: 9999;\n",
       "  position: relative;\n",
       "  font-weight: normal;\n",
       "  right: .2ex;\n",
       "  padding: .5ex;\n",
       "  margin: .5ex;\n",
       "  width: min-content;\n",
       "  min-width: 20ex;\n",
       "  max-width: 50ex;\n",
       "  color: var(--sklearn-color-text);\n",
       "  box-shadow: 2pt 2pt 4pt #999;\n",
       "  /* unfitted */\n",
       "  background: var(--sklearn-color-unfitted-level-0);\n",
       "  border: .5pt solid var(--sklearn-color-unfitted-level-3);\n",
       "}\n",
       "\n",
       ".sk-estimator-doc-link.fitted span {\n",
       "  /* fitted */\n",
       "  background: var(--sklearn-color-fitted-level-0);\n",
       "  border: var(--sklearn-color-fitted-level-3);\n",
       "}\n",
       "\n",
       ".sk-estimator-doc-link:hover span {\n",
       "  display: block;\n",
       "}\n",
       "\n",
       "/* \"?\"-specific style due to the `<a>` HTML tag */\n",
       "\n",
       "#sk-container-id-1 a.estimator_doc_link {\n",
       "  float: right;\n",
       "  font-size: 1rem;\n",
       "  line-height: 1em;\n",
       "  font-family: monospace;\n",
       "  background-color: var(--sklearn-color-background);\n",
       "  border-radius: 1rem;\n",
       "  height: 1rem;\n",
       "  width: 1rem;\n",
       "  text-decoration: none;\n",
       "  /* unfitted */\n",
       "  color: var(--sklearn-color-unfitted-level-1);\n",
       "  border: var(--sklearn-color-unfitted-level-1) 1pt solid;\n",
       "}\n",
       "\n",
       "#sk-container-id-1 a.estimator_doc_link.fitted {\n",
       "  /* fitted */\n",
       "  border: var(--sklearn-color-fitted-level-1) 1pt solid;\n",
       "  color: var(--sklearn-color-fitted-level-1);\n",
       "}\n",
       "\n",
       "/* On hover */\n",
       "#sk-container-id-1 a.estimator_doc_link:hover {\n",
       "  /* unfitted */\n",
       "  background-color: var(--sklearn-color-unfitted-level-3);\n",
       "  color: var(--sklearn-color-background);\n",
       "  text-decoration: none;\n",
       "}\n",
       "\n",
       "#sk-container-id-1 a.estimator_doc_link.fitted:hover {\n",
       "  /* fitted */\n",
       "  background-color: var(--sklearn-color-fitted-level-3);\n",
       "}\n",
       "</style><div id=\"sk-container-id-1\" class=\"sk-top-container\"><div class=\"sk-text-repr-fallback\"><pre>SVC()</pre><b>In a Jupyter environment, please rerun this cell to show the HTML representation or trust the notebook. <br />On GitHub, the HTML representation is unable to render, please try loading this page with nbviewer.org.</b></div><div class=\"sk-container\" hidden><div class=\"sk-item\"><div class=\"sk-estimator fitted sk-toggleable\"><input class=\"sk-toggleable__control sk-hidden--visually\" id=\"sk-estimator-id-1\" type=\"checkbox\" checked><label for=\"sk-estimator-id-1\" class=\"sk-toggleable__label fitted sk-toggleable__label-arrow\"><div><div>SVC</div></div><div><a class=\"sk-estimator-doc-link fitted\" rel=\"noreferrer\" target=\"_blank\" href=\"https://scikit-learn.org/1.6/modules/generated/sklearn.svm.SVC.html\">?<span>Documentation for SVC</span></a><span class=\"sk-estimator-doc-link fitted\">i<span>Fitted</span></span></div></label><div class=\"sk-toggleable__content fitted\"><pre>SVC()</pre></div> </div></div></div></div>"
      ],
      "text/plain": [
       "SVC()"
      ]
     },
     "execution_count": 15,
     "metadata": {},
     "output_type": "execute_result"
    }
   ],
   "source": [
    "svm_model.fit(X_train, y_train) # Model Training "
   ]
  },
  {
   "cell_type": "code",
   "execution_count": 16,
   "id": "faf6fc18-31dd-4e29-ab8e-9fdc00b6245c",
   "metadata": {},
   "outputs": [],
   "source": [
    "svm_pred = svm_model.predict(X_test) # Model Predections "
   ]
  },
  {
   "cell_type": "code",
   "execution_count": 17,
   "id": "9bedb208-c734-4142-9708-3ed432928c9a",
   "metadata": {},
   "outputs": [],
   "source": [
    "# 2. Random Forest (RF) Model \n",
    "rf_model = RandomForestClassifier(n_estimators=100) # Model Initialization\n",
    "rf_model.fit(X_train, y_train) # Model Training \n",
    "rf_pred = rf_model.predict(X_test) # Model Predections "
   ]
  },
  {
   "cell_type": "code",
   "execution_count": 18,
   "id": "a6081fa2-2b6e-40ae-a0b9-4f8a28784e1f",
   "metadata": {},
   "outputs": [
    {
     "name": "stdout",
     "output_type": "stream",
     "text": [
      "--- SVM Evaluation ---\n",
      "Accuracy: 0.9709\n",
      "Precision: 0.9737\n",
      "Recall: 0.9658\n",
      "F1 Score: 0.9697\n",
      "\n"
     ]
    },
    {
     "data": {
      "image/png": "[encoded data removed]",
      "text/plain": [
       "<Figure size 500x400 with 2 Axes>"
      ]
     },
     "metadata": {},
     "output_type": "display_data"
    },
    {
     "name": "stdout",
     "output_type": "stream",
     "text": [
      "\n",
      "\n",
      "--- Random Forest Evaluation ---\n",
      "Accuracy: 0.9637\n",
      "Precision: 0.9656\n",
      "Recall: 0.9589\n",
      "F1 Score: 0.9622\n",
      "\n"
     ]
    },
    {
     "data": {
      "image/png": "[encoded data removed]",
      "text/plain": [
       "<Figure size 500x400 with 2 Axes>"
      ]
     },
     "metadata": {},
     "output_type": "display_data"
    },
    {
     "name": "stdout",
     "output_type": "stream",
     "text": [
      "\n",
      "\n"
     ]
    }
   ],
   "source": [
    "# Models Evaluation \n",
    "def evaluate_model(name, y_true, y_pred):\n",
    "    \n",
    "    acc = accuracy_score(y_true, y_pred)\n",
    "    prec = precision_score(y_true, y_pred)\n",
    "    rec = recall_score(y_true, y_pred)\n",
    "    f1 = f1_score(y_true, y_pred)\n",
    "    \n",
    "    print(f\"--- {name} Evaluation ---\")\n",
    "    print(f\"Accuracy: {acc:.4f}\")\n",
    "    print(f\"Precision: {prec:.4f}\")\n",
    "    print(f\"Recall: {rec:.4f}\")\n",
    "    print(f\"F1 Score: {f1:.4f}\\n\")\n",
    "\n",
    "    # Confusion Matrix\n",
    "    cm = confusion_matrix(y_true, y_pred)\n",
    "    plt.figure(figsize=(5, 4))\n",
    "    sns.heatmap(cm, annot=True, fmt='d', cmap='Blues', xticklabels=[\"Fake\", \"True\"], \n",
    "                yticklabels=[\"Fake\", \"True\"])\n",
    "    plt.xlabel('Predicted Label')\n",
    "    plt.ylabel('True Label')\n",
    "    plt.title(f'{name} - Confusion Matrix')\n",
    "    plt.show()\n",
    "    print('\\n')\n",
    "\n",
    "    return {'Model': name, 'Accuracy': acc, 'Precision': prec, 'Recall': rec, \n",
    "            'F1 Score': f1}\n",
    "\n",
    "svm_metrics = evaluate_model(\"SVM\", y_test, svm_pred)\n",
    "rf_metrics = evaluate_model(\"Random Forest\", y_test, rf_pred)\n"
   ]
  },
  {
   "cell_type": "code",
   "execution_count": 19,
   "id": "15876dc9-bb81-4936-bf45-865d17dc72bb",
   "metadata": {},
   "outputs": [],
   "source": [
    "# Evaluate accuracy 5 cross-validation folds\n",
    "def get_cv_scores(model, X, y, metric='accuracy'):\n",
    "    return cross_val_score(model, X, y, cv=5, scoring=metric)"
   ]
  },
  {
   "cell_type": "code",
   "execution_count": 20,
   "id": "582774bc-f9d2-468d-9e92-13172c332c73",
   "metadata": {},
   "outputs": [],
   "source": [
    "# Get accuracy and f1 for each fold\n",
    "svm_acc = get_cv_scores(svm_model, X_vec, y, 'accuracy')"
   ]
  },
  {
   "cell_type": "code",
   "execution_count": 21,
   "id": "1fdbe0e1-82c6-4369-b583-fef8b2467c5f",
   "metadata": {},
   "outputs": [],
   "source": [
    "rf_acc = get_cv_scores(rf_model, X_vec, y, 'accuracy')"
   ]
  },
  {
   "cell_type": "code",
   "execution_count": 22,
   "id": "791a5888-670a-4c7f-ac21-b85be2976de7",
   "metadata": {},
   "outputs": [],
   "source": [
    "svm_f1 = get_cv_scores(svm_model, X_vec, y, 'f1')\n",
    "rf_f1 = get_cv_scores(rf_model, X_vec, y, 'f1')"
   ]
  },
  {
   "cell_type": "code",
   "execution_count": 23,
   "id": "d08cfb5b-6c9b-43bf-b63e-61220f4d2c92",
   "metadata": {},
   "outputs": [
    {
     "data": {
      "image/png": "[encoded data removed]",
      "text/plain": [
       "<Figure size 1200x500 with 2 Axes>"
      ]
     },
     "metadata": {},
     "output_type": "display_data"
    }
   ],
   "source": [
    "# Plot accuracy across folds\n",
    "plt.figure(figsize=(12, 5))\n",
    "\n",
    "# Accuracy subplot\n",
    "plt.subplot(1, 2, 1)\n",
    "plt.plot(svm_acc, marker='o', label='SVM')\n",
    "plt.plot(rf_acc, marker='o', label='Random Forest')\n",
    "plt.title(\"Cross-Validation Accuracy\")\n",
    "plt.xlabel(\"Fold\")\n",
    "plt.ylabel(\"Accuracy\")\n",
    "plt.ylim(0.5, 1)\n",
    "plt.legend()\n",
    "\n",
    "# F1-score subplot\n",
    "plt.subplot(1, 2, 2)\n",
    "plt.plot(svm_f1, marker='o', label='SVM')\n",
    "plt.plot(rf_f1, marker='o', label='Random Forest')\n",
    "plt.title(\"Cross-Validation F1 Score\")\n",
    "plt.xlabel(\"Fold\")\n",
    "plt.ylabel(\"F1 Score\")\n",
    "plt.ylim(0.5, 1)\n",
    "plt.legend()\n",
    "\n",
    "plt.tight_layout()\n",
    "plt.show()\n"
   ]
  },
  {
   "cell_type": "code",
   "execution_count": 24,
   "id": "9a7746c3-f254-4c57-8319-cd4072eb69b2",
   "metadata": {},
   "outputs": [
    {
     "data": {
      "image/png": "[encoded data removed]",
      "text/plain": [
       "<Figure size 1000x600 with 1 Axes>"
      ]
     },
     "metadata": {},
     "output_type": "display_data"
    }
   ],
   "source": [
    "# Visual Comparison\n",
    "metrics_df = pd.DataFrame([svm_metrics, rf_metrics])\n",
    "\n",
    "plt.figure(figsize=(10, 6))\n",
    "sns.set(style=\"whitegrid\")\n",
    "metrics_melted = metrics_df.melt(id_vars=\"Model\", var_name=\"Metric\", value_name=\"Score\")\n",
    "sns.barplot(x=\"Metric\", y=\"Score\", hue=\"Model\", data=metrics_melted)\n",
    "plt.title(\"Models Comparison: SVM vs Random Forest\")\n",
    "plt.ylim(0.5, 1.05)\n",
    "plt.legend(loc='lower right')\n",
    "plt.show()"
   ]
  },
  {
   "cell_type": "code",
   "execution_count": 25,
   "id": "260b0fc9-1b9f-415a-bbf2-2b53a8aa5aa7",
   "metadata": {},
   "outputs": [
    {
     "name": "stdin",
     "output_type": "stream",
     "text": [
      "Enter a news article to test:  Former President Barack Obama praised Harvard Universit y's decision to resist the Trump administration's conditions for federal funding, and encouraged other institutions to do the same.\n"
     ]
    },
    {
     "data": {
      "text/plain": [
       "{'SVM Prediction': 'True', 'Random Forest Prediction': 'True'}"
      ]
     },
     "execution_count": 25,
     "metadata": {},
     "output_type": "execute_result"
    }
   ],
   "source": [
    "# Predicting a new article\n",
    "def predict_news(news_text):\n",
    "    vec = vectorizer.transform([news_text])\n",
    "    svm_result = svm_model.predict(vec)[0]\n",
    "    rf_result = rf_model.predict(vec)[0]\n",
    "    result = {\n",
    "        \"SVM Prediction\": \"True\" if svm_result == 1 else \"Fake\",\n",
    "        \"Random Forest Prediction\": \"True\" if rf_result == 1 else \"Fake\"\n",
    "    }\n",
    "    return result\n",
    "\n",
    "# Example\n",
    "test_sample = input(\"Enter a news article to test: \") # Real News\n",
    "predict_news(test_sample)\n"
   ]
  },
  {
   "cell_type": "code",
   "execution_count": 28,
   "id": "36551093-6583-4c1d-999e-664b64037f30",
   "metadata": {},
   "outputs": [
    {
     "name": "stdin",
     "output_type": "stream",
     "text": [
      "Enter a news article to test:  Prime Minister Narendra Modi's bid to transform India i nto a global factory floor has produced billions of dollars of low-cost iPhones and ph armaceuticals. Now he hopes to add missiles, helicopters and battleships to the shoppi ng carts of foreign governments.\n"
     ]
    },
    {
     "data": {
      "text/plain": [
       "{'SVM Prediction': 'True', 'Random Forest Prediction': 'True'}"
      ]
     },
     "execution_count": 28,
     "metadata": {},
     "output_type": "execute_result"
    }
   ],
   "source": [
    "test_sample = input(\"Enter a news article to test: \") # Real News\n",
    "predict_news(test_sample)"
   ]
  },
  {
   "cell_type": "code",
   "execution_count": 34,
   "id": "06a9e7d4-1eb1-49bb-923d-18814c81bee5",
   "metadata": {},
   "outputs": [
    {
     "name": "stdin",
     "output_type": "stream",
     "text": [
      "Enter a news article to test:  British government ministers have been banned from usin g Chinese-owned social media app TikTok on their work phones and devices on security g rounds.\n"
     ]
    },
    {
     "data": {
      "text/plain": [
       "{'SVM Prediction': 'True', 'Random Forest Prediction': 'True'}"
      ]
     },
     "execution_count": 34,
     "metadata": {},
     "output_type": "execute_result"
    }
   ],
   "source": [
    "test_sample = input(\"Enter a news article to test: \") # Fake News\n",
    "predict_news(test_sample)"
   ]
  },
  {
   "cell_type": "code",
   "execution_count": 52,
   "id": "4ae7ccf2-4b41-4fed-a54d-6b1046538037",
   "metadata": {},
   "outputs": [
    {
     "name": "stdin",
     "output_type": "stream",
     "text": [
      "Enter a news article to test:  A recent (and highly disputed) study from the \"Global I ntelligence Research Center\" claims that daily Instagram use boosts critical thinking and memory, especially among teens. Experts suggest filters might stimulate brain acti vity.\n"
     ]
    },
    {
     "data": {
      "text/plain": [
       "{'SVM Prediction': 'Fake', 'Random Forest Prediction': 'True'}"
      ]
     },
     "execution_count": 52,
     "metadata": {},
     "output_type": "execute_result"
    }
   ],
   "source": [
    "test_sample = input(\"Enter a news article to test: \") # Fake News\n",
    "predict_news(test_sample)"
   ]
  },
  {
   "cell_type": "code",
   "execution_count": 86,
   "id": "7a5acaed-b8a3-4bc3-992e-7cb10179a901",
   "metadata": {},
   "outputs": [
    {
     "name": "stdin",
     "output_type": "stream",
     "text": [
      "Enter a news article to test:  In a surprising election, Whiskers McFluff, a three-year-old tabby cat, has been elected mayor of Purrville, winning 95% of the vote. His campaign slogan, \"Fur the People,\" resonated with voters, leading to his victory over human opponent Joe Smith.  McFluff's first act was to declare every Tuesday \"Tuna Day\" and appoint his best friend, a golden retriever named Barkley, as deputy. Residents are excited for a purr-fectly delightful term under their new feline leader!\n"
     ]
    },
    {
     "data": {
      "text/plain": [
       "{'SVM Prediction': 'Fake', 'Random Forest Prediction': 'Fake'}"
      ]
     },
     "execution_count": 86,
     "metadata": {},
     "output_type": "execute_result"
    }
   ],
   "source": [
    "test_sample = input(\"Enter a news article to test: \") # Fake News\n",
    "predict_news(test_sample)"
   ]
  },
  {
   "cell_type": "code",
   "execution_count": 48,
   "id": "7a7b0b99-94cc-493b-9f13-4adddd670c77",
   "metadata": {},
   "outputs": [
    {
     "name": "stdout",
     "output_type": "stream",
     "text": [
      "MAE: 0.029064587973273943\n",
      "RMSE: 0.17048339500747262\n"
     ]
    }
   ],
   "source": [
    "from sklearn.metrics import mean_absolute_error, mean_squared_error\n",
    "\n",
    "# MAE\n",
    "mae = mean_absolute_error(y_test, svm_pred)\n",
    "\n",
    "# RMSE\n",
    "rmse = np.sqrt(mean_squared_error(y_test, svm_pred))\n",
    "\n",
    "print(f\"MAE: {mae}\")\n",
    "print(f\"RMSE: {rmse}\")"
   ]
  },
  {
   "cell_type": "code",
   "execution_count": 50,
   "id": "9b681fd3-0626-495e-8bba-c624c718b5d3",
   "metadata": {},
   "outputs": [
    {
     "name": "stdout",
     "output_type": "stream",
     "text": [
      "MAE: 0.036302895322939864\n",
      "RMSE: 0.19053318693324758\n"
     ]
    }
   ],
   "source": [
    "# MAE\n",
    "mae = mean_absolute_error(y_test, rf_pred)\n",
    "\n",
    "# RMSE\n",
    "rmse = np.sqrt(mean_squared_error(y_test, rf_pred))\n",
    "\n",
    "print(f\"MAE: {mae}\")\n",
    "print(f\"RMSE: {rmse}\")"
   ]
  },
  {
   "cell_type": "code",
   "execution_count": 92,
   "id": "c2c01b51-7ff7-4e6f-8055-daa73a2918f7",
   "metadata": {},
   "outputs": [
    {
     "data": {
      "text/html": [
       "<div>\n",
       "<style scoped>\n",
       "    .dataframe tbody tr th:only-of-type {\n",
       "        vertical-align: middle;\n",
       "    }\n",
       "\n",
       "    .dataframe tbody tr th {\n",
       "        vertical-align: top;\n",
       "    }\n",
       "\n",
       "    .dataframe thead th {\n",
       "        text-align: right;\n",
       "    }\n",
       "</style>\n",
       "<table border=\"1\" class=\"dataframe\">\n",
       "  <thead>\n",
       "    <tr style=\"text-align: right;\">\n",
       "      <th></th>\n",
       "      <th>Split</th>\n",
       "      <th>Total Rows</th>\n",
       "      <th>True News</th>\n",
       "      <th>Fake News</th>\n",
       "      <th>TF-IDF Features</th>\n",
       "    </tr>\n",
       "  </thead>\n",
       "  <tbody>\n",
       "    <tr>\n",
       "      <th>0</th>\n",
       "      <td>Training</td>\n",
       "      <td>35918</td>\n",
       "      <td>17087</td>\n",
       "      <td>18831</td>\n",
       "      <td>121036</td>\n",
       "    </tr>\n",
       "    <tr>\n",
       "      <th>1</th>\n",
       "      <td>Testing</td>\n",
       "      <td>8980</td>\n",
       "      <td>4330</td>\n",
       "      <td>4650</td>\n",
       "      <td>121036</td>\n",
       "    </tr>\n",
       "    <tr>\n",
       "      <th>2</th>\n",
       "      <td>Total</td>\n",
       "      <td>44898</td>\n",
       "      <td>21417</td>\n",
       "      <td>23481</td>\n",
       "      <td>121036</td>\n",
       "    </tr>\n",
       "  </tbody>\n",
       "</table>\n",
       "</div>"
      ],
      "text/plain": [
       "      Split  Total Rows  True News  Fake News  TF-IDF Features\n",
       "0  Training       35918      17087      18831           121036\n",
       "1   Testing        8980       4330       4650           121036\n",
       "2     Total       44898      21417      23481           121036"
      ]
     },
     "execution_count": 92,
     "metadata": {},
     "output_type": "execute_result"
    }
   ],
   "source": [
    "from sklearn.model_selection import train_test_split\n",
    "\n",
    "# Count samples\n",
    "train_rows = X_train.shape[0]\n",
    "test_rows = X_test.shape[0]\n",
    "num_features = X_vec.shape[1]  # number of TF-IDF features\n",
    "\n",
    "# Class distribution\n",
    "train_labels = pd.Series(y_train).value_counts()\n",
    "test_labels = pd.Series(y_test).value_counts()\n",
    "\n",
    "# Create a summary table\n",
    "split_stats = pd.DataFrame({\n",
    "    \"Split\": [\"Training\", \"Testing\", \"Total\"],\n",
    "    \"Total Rows\": [train_rows, test_rows, train_rows + test_rows],\n",
    "    \"True News\": [sum(y_train == 1), sum(y_test == 1), sum(y_train == 1) + sum(y_test == 1)],\n",
    "    \"Fake News\": [sum(y_train == 0), sum(y_test == 0), sum(y_train == 0) + sum(y_test == 0)],\n",
    "    \"TF-IDF Features\": [num_features, num_features, num_features]\n",
    "})\n",
    "\n",
    "\n",
    "split_stats\n"
   ]
  },
  {
   "cell_type": "code",
   "execution_count": null,
   "id": "5d577048-866a-483e-8e02-a8c04a4fdbb8",
   "metadata": {},
   "outputs": [],
   "source": []
  }
 ],
 "metadata": {
  "kernelspec": {
   "display_name": "imgProj",
   "language": "python",
   "name": "imgproj"
  },
  "language_info": {
   "codemirror_mode": {
    "name": "ipython",
    "version": 3
   },
   "file_extension": ".py",
   "mimetype": "text/x-python",
   "name": "python",
   "nbconvert_exporter": "python",
   "pygments_lexer": "ipython3",
   "version": "3.12.9"
  }
 },
 "nbformat": 4,
 "nbformat_minor": 5
}
